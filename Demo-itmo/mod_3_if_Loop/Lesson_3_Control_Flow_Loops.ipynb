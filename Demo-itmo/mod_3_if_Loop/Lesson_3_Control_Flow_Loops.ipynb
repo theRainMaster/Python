{
 "cells": [
  {
   "cell_type": "markdown",
   "metadata": {
    "collapsed": true
   },
   "source": [
    "# Lesson 3.\n",
    "# # Control Flow with Decisions and Loops\n"
   ]
  },
  {
   "cell_type": "code",
   "execution_count": 1,
   "metadata": {},
   "outputs": [
    {
     "name": "stdout",
     "output_type": "stream",
     "text": [
      "4 3\n"
     ]
    }
   ],
   "source": [
    "a = True + 3\n",
    "b = False + 3\n",
    "print(a,b)"
   ]
  },
  {
   "cell_type": "code",
   "execution_count": 3,
   "metadata": {},
   "outputs": [
    {
     "name": "stdout",
     "output_type": "stream",
     "text": [
      "True False True False False\n"
     ]
    }
   ],
   "source": [
    "print(bool(-5), bool(0),bool(\"0\"),bool(\"\"),bool([]))"
   ]
  },
  {
   "cell_type": "code",
   "execution_count": null,
   "metadata": {},
   "outputs": [],
   "source": [
    "# Using an if statement to find out if a variable is equal to 100\n",
    "int1 = 50\n",
    "if int1 == 100:\n",
    "    print(\"The variable is equal to 100.\")\n",
    "else: print(\"The variable is not equal to 100.\")"
   ]
  },
  {
   "cell_type": "code",
   "execution_count": null,
   "metadata": {},
   "outputs": [],
   "source": [
    "# Using an if statement to compare a variable to multiple values\n",
    "int1 = 14\n",
    "if int1 == 10: print(\"The variable is equal to 10\")\n",
    "elif int1 == 9: print(\"The variable is equal to 9\")\n",
    "elif int1 == 8: print(\"The variable is equal to 8\")\n",
    "elif int1 == 7: print(\"The variable is equal to 7\")\n",
    "elif int1 == 6: print(\"The variable is equal to 6\")\n",
    "elif int1 == 5: print(\"The variable is equal to 5\")\n",
    "elif int1 == 4: print(\"The variable is equal to 4\")\n",
    "elif int1 == 3: print(\"The variable is equal to 3\")\n",
    "elif int1 == 2: print(\"The variable is equal to 2\")\n",
    "elif int1 == 1: print(\"The variable is equal to 1\")\n",
    "else: print(\"The variable is not between 1 and 10\")"
   ]
  },
  {
   "cell_type": "code",
   "execution_count": null,
   "metadata": {},
   "outputs": [],
   "source": [
    "# Using an if statement to print multiple statements\n",
    "cost = 101\n",
    "if cost >= 100: \n",
    "    print(\"You qualify for a 10% discount on a future purchase.\")\n",
    "    print(\"Please go to customer service for your discount card.\")\n",
    "else: \n",
    "    print(\"Thank you for shopping at our store.\")\n",
    "    print(\"Your purchase will be added to your rewards card.\")"
   ]
  },
  {
   "cell_type": "code",
   "execution_count": 4,
   "metadata": {},
   "outputs": [
    {
     "name": "stdout",
     "output_type": "stream",
     "text": [
      "чет\n"
     ]
    }
   ],
   "source": [
    "a = \"чет\" if 10 % 2 == 0 else \"нечет\"\n",
    "print(a)"
   ]
  },
  {
   "cell_type": "markdown",
   "metadata": {},
   "source": [
    "### for"
   ]
  },
  {
   "cell_type": "code",
   "execution_count": null,
   "metadata": {},
   "outputs": [],
   "source": [
    "for expression in iterable:  # Для каждого элемента 'expression' из 'iterable'\n",
    "    for_suite                # выполняется 'for_suite'\n",
    "else:                        # (else - 0 или 1)\n",
    "    else_suite               # Выполняется, если не было прерывания цикла"
   ]
  },
  {
   "cell_type": "code",
   "execution_count": 6,
   "metadata": {},
   "outputs": [
    {
     "name": "stdout",
     "output_type": "stream",
     "text": [
      "shirts\n",
      "pants\n",
      "socks\n",
      "hats\n",
      "glasses\n",
      "shoes\n",
      "['shirts', 'pants', 'socks', 'hats', 'glasses', 'shoes']\n"
     ]
    }
   ],
   "source": [
    "# Using a for statement to print the values in a list\n",
    "clothes = ['shirts','pants','socks','hats','glasses','shoes']\n",
    "for i in clothes:\n",
    "    print(i)     # тело цикла\n",
    "print(clothes)   # уже не тело цикла"
   ]
  },
  {
   "cell_type": "code",
   "execution_count": 7,
   "metadata": {},
   "outputs": [
    {
     "name": "stdout",
     "output_type": "stream",
     "text": [
      "shirts\n",
      "pants\n",
      "socks\n",
      "glasses\n",
      "shoes\n"
     ]
    }
   ],
   "source": [
    "# Using the for and continue statements.  Test the code by changing continue to break.\n",
    "clothes = ['shirts','pants','socks','hats','glasses','shoes']\n",
    "for i in clothes:\n",
    "    if i == 'hats': continue\n",
    "    print(i)"
   ]
  },
  {
   "cell_type": "code",
   "execution_count": 11,
   "metadata": {},
   "outputs": [
    {
     "name": "stdout",
     "output_type": "stream",
     "text": [
      "shirts\n",
      "pants\n",
      "socks\n"
     ]
    }
   ],
   "source": [
    "# Using the for and break statements.  Test the code by changing continue to break.\n",
    "clothes = ['shirts','pants','socks','hats','glasses','shoes']\n",
    "for i in clothes:\n",
    "    if i == 'hats': break\n",
    "    print(i)\n",
    "else:\n",
    "    print(\"Выведен полный список\") # выполняется, если не использовался break"
   ]
  },
  {
   "cell_type": "code",
   "execution_count": null,
   "metadata": {},
   "outputs": [],
   "source": [
    "# Using a for statement to modify the values in a list\n",
    "list1 = [2,4,6,8,10]\n",
    "print(\"The old list1 is: \", list1)\n",
    "for i in range(len(list1)):    # доступ к каждому элементу с помощью функции range([начало,] конец[, шаг])\n",
    "    list1[i] = list1[i] * 3\n",
    "print(\"The new list1 is: \", list1)"
   ]
  },
  {
   "cell_type": "code",
   "execution_count": null,
   "metadata": {},
   "outputs": [],
   "source": [
    "# Using a for statement to parse a dictionary\n",
    "dict1 = {'FirstName':'William','LastName':'Robinson','Age':24}\n",
    "for i in dict1:\n",
    "    print(i)"
   ]
  },
  {
   "cell_type": "markdown",
   "metadata": {},
   "source": [
    "### while"
   ]
  },
  {
   "cell_type": "code",
   "execution_count": null,
   "metadata": {},
   "outputs": [],
   "source": [
    "while logical_expression:  # Если условие истинно, выполняется 'while_suite'\n",
    "    while_suite            # После выполнения, происходит возврат к проверке\n",
    "else:                      # (else - 0 или 1)\n",
    "    else_suite             # Выполняется, если не было прерывания цикла"
   ]
  },
  {
   "cell_type": "code",
   "execution_count": 4,
   "metadata": {},
   "outputs": [
    {
     "name": "stdout",
     "output_type": "stream",
     "text": [
      "The value of the variable is:  1\n",
      "The value of the variable is:  2\n",
      "The value of the variable is:  3\n",
      "The value of the variable is:  4\n",
      "The value of the variable is:  5\n",
      "The value of the variable is:  6\n",
      "The value of the variable is:  7\n",
      "The value of the variable is:  8\n",
      "The value of the variable is:  9\n",
      "The value of the variable is:  10\n",
      "Не было прерываний цикла\n"
     ]
    }
   ],
   "source": [
    "# Using a while statement to do a looping operation 10 times\n",
    "count = 1\n",
    "while count < 11:\n",
    "    print(\"The value of the variable is: \", count)\n",
    "    count += 1\n",
    "else:\n",
    "    print(\"Не было прерываний цикла\")"
   ]
  },
  {
   "cell_type": "code",
   "execution_count": 3,
   "metadata": {},
   "outputs": [
    {
     "name": "stdout",
     "output_type": "stream",
     "text": [
      "The value of the variable is:  1\n",
      "The value of the variable is:  2\n",
      "The value of the variable is:  3\n",
      "The value of the variable is:  4\n"
     ]
    }
   ],
   "source": [
    "# Using the while and break statements.  Test the code by changing break to continue (infinite loop).\n",
    "count = 1\n",
    "while count < 11:\n",
    "    if count == 5: break\n",
    "    print(\"The value of the variable is: \", count)\n",
    "    count += 1\n",
    "else:\n",
    "    print(\"Не было прерываний цикла\")"
   ]
  },
  {
   "cell_type": "code",
   "execution_count": 5,
   "metadata": {},
   "outputs": [
    {
     "name": "stdout",
     "output_type": "stream",
     "text": [
      "Enter the number 0 to end the loop.\n",
      "Enter a number: 3\n",
      "Enter the number 0 to end the loop.\n",
      "Enter a number: 0\n",
      "Count is equal to:  0\n"
     ]
    }
   ],
   "source": [
    "# Using a while statement to continue indefinitely until a specified value is entered\n",
    "count = 1\n",
    "while count != 0:\n",
    "    print(\"Enter the number 0 to end the loop.\")\n",
    "    count = int(input(\"Enter a number: \"))\n",
    "print(\"Count is equal to: \", count)"
   ]
  },
  {
   "cell_type": "code",
   "execution_count": 6,
   "metadata": {},
   "outputs": [
    {
     "name": "stdout",
     "output_type": "stream",
     "text": [
      "Count is greater than 1. ( 10 )\n",
      "Count is greater than 1. ( 9 )\n",
      "Count is greater than 1. ( 8 )\n",
      "Count is greater than 1. ( 7 )\n",
      "Count is greater than 1. ( 6 )\n",
      "Count is greater than 1. ( 5 )\n",
      "Count is greater than 1. ( 4 )\n",
      "Count is greater than 1. ( 3 )\n",
      "Count is greater than 1. ( 2 )\n",
      "Count is less than or equal to 1\n"
     ]
    }
   ],
   "source": [
    "# Using a while statement with else\n",
    "count = 10\n",
    "while count > 1:\n",
    "    print(\"Count is greater than 1. (\",count,\")\")\n",
    "    count -= 1\n",
    "else: print(\"Count is less than or equal to 1\")"
   ]
  },
  {
   "cell_type": "code",
   "execution_count": null,
   "metadata": {},
   "outputs": [],
   "source": []
  }
 ],
 "metadata": {
  "kernelspec": {
   "display_name": "Python 3",
   "language": "python",
   "name": "python3"
  },
  "language_info": {
   "codemirror_mode": {
    "name": "ipython",
    "version": 3
   },
   "file_extension": ".py",
   "mimetype": "text/x-python",
   "name": "python",
   "nbconvert_exporter": "python",
   "pygments_lexer": "ipython3",
   "version": "3.7.3"
  }
 },
 "nbformat": 4,
 "nbformat_minor": 2
}
