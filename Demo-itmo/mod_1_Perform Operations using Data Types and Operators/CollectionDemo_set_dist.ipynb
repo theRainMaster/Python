{
 "cells": [
  {
   "cell_type": "markdown",
   "metadata": {},
   "source": [
    "#### Множество - неупорядоченная коллекция уникальных элементов"
   ]
  },
  {
   "cell_type": "code",
   "execution_count": 16,
   "metadata": {},
   "outputs": [
    {
     "name": "stdout",
     "output_type": "stream",
     "text": [
      "{'ab', 'cd', 'ef'}\n",
      "{1, 2, 3, 4, 5}\n"
     ]
    }
   ],
   "source": [
    "s1 = {\"ab\", \"cd\", \"ef\"}\n",
    "s2 = set([1, 2, 3, 4, 5]) # применяет функцию set(), передав в качестве аргумента любой итерируемый объект.\n",
    "print(s1)\n",
    "print(s2)"
   ]
  },
  {
   "cell_type": "code",
   "execution_count": 18,
   "metadata": {},
   "outputs": [
    {
     "name": "stdout",
     "output_type": "stream",
     "text": [
      "{2, 4, 6, 8, 10}\n",
      "{0, 1, 2, 3, 4, 5, 6, 7, 8, 9, 10}\n"
     ]
    }
   ],
   "source": [
    "a = {2, 4, 6, 8, 10}\n",
    "b = set(range(11))\n",
    "print(a); print(b)"
   ]
  },
  {
   "cell_type": "code",
   "execution_count": 19,
   "metadata": {},
   "outputs": [
    {
     "name": "stdout",
     "output_type": "stream",
     "text": [
      "{1, 2, 3, 4, 5, 6, 7, 8, 9, 10}\n"
     ]
    }
   ],
   "source": [
    "b.remove(0)\n",
    "print(b)"
   ]
  },
  {
   "cell_type": "code",
   "execution_count": 22,
   "metadata": {},
   "outputs": [
    {
     "name": "stdout",
     "output_type": "stream",
     "text": [
      "{2, 4, 6, 8, 10, 12}\n"
     ]
    }
   ],
   "source": [
    "a.add(12)\n",
    "print(a)"
   ]
  },
  {
   "cell_type": "code",
   "execution_count": 24,
   "metadata": {},
   "outputs": [
    {
     "name": "stdout",
     "output_type": "stream",
     "text": [
      "{2, 4, 6, 8, 10}\n"
     ]
    }
   ],
   "source": [
    "print(a & b)"
   ]
  },
  {
   "cell_type": "code",
   "execution_count": 25,
   "metadata": {},
   "outputs": [
    {
     "name": "stdout",
     "output_type": "stream",
     "text": [
      "{1, 2, 3, 4, 5, 6, 7, 8, 9, 10, 12}\n"
     ]
    }
   ],
   "source": [
    "print(a | b)"
   ]
  },
  {
   "cell_type": "code",
   "execution_count": 26,
   "metadata": {},
   "outputs": [
    {
     "name": "stdout",
     "output_type": "stream",
     "text": [
      "{12}\n"
     ]
    }
   ],
   "source": [
    "print(a-b)"
   ]
  },
  {
   "cell_type": "code",
   "execution_count": 27,
   "metadata": {},
   "outputs": [
    {
     "name": "stdout",
     "output_type": "stream",
     "text": [
      "{1, 3, 5, 7, 9}\n"
     ]
    }
   ],
   "source": [
    "print(b-a)"
   ]
  },
  {
   "cell_type": "markdown",
   "metadata": {},
   "source": [
    "#### Отображения (Словари) - неупорядоченная коллекция пар элементов «ключ-значение»"
   ]
  },
  {
   "cell_type": "code",
   "execution_count": 35,
   "metadata": {},
   "outputs": [
    {
     "name": "stdout",
     "output_type": "stream",
     "text": [
      "{'id': 1948, 'name': 'Washer', 'size': 3}\n",
      "{'id': 1948, 'name': 'Washer', 'size': 3}\n"
     ]
    }
   ],
   "source": [
    "#несколько способов создания словарей - все они создают один и тот же словарь:\n",
    "d1 = dict({\"id\": 1948, \"name\": \"Washer\", \"size\": 3})\n",
    "d2 = dict(id=1948, name=\"Washer\", size=3)\n",
    "d3 = dict([(\"id\", 1948), (\"name\", \"Washer\"), (\"size\", 3)])\n",
    "d4 = dict(zip((\"id\", \"name\", \"size\"), (1948, \"Washer\", 3)))\n",
    "d5 = {\"id\": 1948, \"name\": \"Washer\", \"size\": 3}\n",
    "print(d1)\n",
    "print(d2)"
   ]
  },
  {
   "cell_type": "code",
   "execution_count": 8,
   "metadata": {},
   "outputs": [
    {
     "name": "stdout",
     "output_type": "stream",
     "text": [
      "{'Key 1': 'Value 1', 2: 3, 'pi': 3.14}\n",
      "{'Key 1': 'Value 1', 2: 3, 'pi': 3.1416}\n"
     ]
    }
   ],
   "source": [
    "mydict = {\"Key 1\": \"Value 1\", 2: 3, \"pi\": 3.14} #Создаем словарь с числовыми и целочисленными индексами\n",
    "print(mydict)\n",
    "mydict[\"pi\"] = 3.1416 #Изменяем элемент словаря под индексом «pi».\n",
    "print(mydict)"
   ]
  },
  {
   "cell_type": "code",
   "execution_count": 33,
   "metadata": {},
   "outputs": [
    {
     "name": "stdout",
     "output_type": "stream",
     "text": [
      "{'color': 'red', 'index': 101}\n"
     ]
    }
   ],
   "source": [
    "dp = {} # пустой словарь\n",
    "# заполнение словаря\n",
    "dp['color'] = 'red'\n",
    "dp['index'] = 101\n",
    "print(dp)"
   ]
  },
  {
   "cell_type": "code",
   "execution_count": 37,
   "metadata": {},
   "outputs": [
    {
     "name": "stdout",
     "output_type": "stream",
     "text": [
      "Enter name:  t\n",
      "Enter age: 8\n",
      "{'color': 'red', 'index': 101, 'name': 't', 'age': 8}\n"
     ]
    }
   ],
   "source": [
    "dp['name'] = input(\"Enter name:  \")\n",
    "dp['age'] = int(input(\"Enter age: \"))\n",
    "print(dp)"
   ]
  },
  {
   "cell_type": "code",
   "execution_count": 39,
   "metadata": {
    "scrolled": false
   },
   "outputs": [
    {
     "name": "stdout",
     "output_type": "stream",
     "text": [
      "dict_keys(['color', 'index', 'name', 'age'])\n",
      "dict_values(['red', 101, 't', 8])\n"
     ]
    }
   ],
   "source": [
    "print(dp.keys()) # только ключи\n",
    "print(dp.values()) # только значения"
   ]
  },
  {
   "cell_type": "code",
   "execution_count": null,
   "metadata": {},
   "outputs": [],
   "source": []
  }
 ],
 "metadata": {
  "kernelspec": {
   "display_name": "Python 3",
   "language": "python",
   "name": "python3"
  },
  "language_info": {
   "codemirror_mode": {
    "name": "ipython",
    "version": 3
   },
   "file_extension": ".py",
   "mimetype": "text/x-python",
   "name": "python",
   "nbconvert_exporter": "python",
   "pygments_lexer": "ipython3",
   "version": "3.7.3"
  }
 },
 "nbformat": 4,
 "nbformat_minor": 2
}
